{
 "cells": [
  {
   "cell_type": "code",
   "execution_count": 1,
   "id": "cfd70163",
   "metadata": {},
   "outputs": [
    {
     "name": "stdout",
     "output_type": "stream",
     "text": [
      "{'data': 'gen_data', 'hash': 'gen_hash', 'last_hash': 'gen_last_hash'}\n",
      "{'data': 'this', 'hash': 'thisgen_hash*', 'last_hash': 'gen_hash'}\n",
      "{'data': 'is', 'hash': 'isthisgen_hash**', 'last_hash': 'thisgen_hash*'}\n",
      "{'data': 'a', 'hash': 'aisthisgen_hash***', 'last_hash': 'isthisgen_hash**'}\n",
      "{'data': 'blockchain', 'hash': 'blockchainaisthisgen_hash****', 'last_hash': 'aisthisgen_hash***'}\n"
     ]
    }
   ],
   "source": [
    "def building_hash(data):\n",
    "    return data + '*'\n",
    "\n",
    "class Block:\n",
    "    def __init__(self, data, hash, last_hash):\n",
    "        self.data = data\n",
    "        self.hash = hash\n",
    "        self.last_hash = last_hash\n",
    "        \n",
    "class Blockchain:\n",
    "    def __init__(self):\n",
    "        genesis = Block('gen_data', 'gen_hash', 'gen_last_hash')\n",
    "        self.chain = [genesis]\n",
    "        \n",
    "    def add_block(self, data):\n",
    "        last_hash = self.chain[-1].hash # find last item in the list\n",
    "        hash = building_hash(data + last_hash)\n",
    "        block = Block(data, hash, last_hash)\n",
    "        \n",
    "        # make sur the block is added to the chain\n",
    "        self.chain.append(block)\n",
    "        \n",
    "foo_blockchain = Blockchain() #instancing a test blockchain\n",
    "foo_blockchain.add_block('this')\n",
    "foo_blockchain.add_block('is')\n",
    "foo_blockchain.add_block('a')\n",
    "foo_blockchain.add_block('blockchain')\n",
    "\n",
    "for block in foo_blockchain.chain:\n",
    "    print(block.__dict__) # create a key/value collection of all the block attributes"
   ]
  },
  {
   "cell_type": "code",
   "execution_count": null,
   "id": "70a0344b",
   "metadata": {},
   "outputs": [],
   "source": []
  }
 ],
 "metadata": {
  "kernelspec": {
   "display_name": "Python 3 (ipykernel)",
   "language": "python",
   "name": "python3"
  },
  "language_info": {
   "codemirror_mode": {
    "name": "ipython",
    "version": 3
   },
   "file_extension": ".py",
   "mimetype": "text/x-python",
   "name": "python",
   "nbconvert_exporter": "python",
   "pygments_lexer": "ipython3",
   "version": "3.9.7"
  }
 },
 "nbformat": 4,
 "nbformat_minor": 5
}
